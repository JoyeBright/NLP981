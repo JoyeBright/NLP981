{
  "nbformat": 4,
  "nbformat_minor": 0,
  "metadata": {
    "colab": {
      "name": "NLP981-Phase2.ipynb",
      "provenance": [],
      "collapsed_sections": [],
      "toc_visible": true,
      "include_colab_link": true
    },
    "kernelspec": {
      "name": "python3",
      "display_name": "Python 3"
    }
  },
  "cells": [
    {
      "cell_type": "markdown",
      "metadata": {
        "id": "view-in-github",
        "colab_type": "text"
      },
      "source": [
        "<a href=\"https://colab.research.google.com/github/parsa-abbasi/NLP981/blob/master/NLP981_Phase2.ipynb\" target=\"_parent\"><img src=\"https://colab.research.google.com/assets/colab-badge.svg\" alt=\"Open In Colab\"/></a>"
      ]
    },
    {
      "cell_type": "markdown",
      "metadata": {
        "id": "0Tduc6QDQz1H",
        "colab_type": "text"
      },
      "source": [
        "# NLP981 Final Project - Phase #2"
      ]
    },
    {
      "cell_type": "markdown",
      "metadata": {
        "id": "P0F0hIUs7oCS",
        "colab_type": "text"
      },
      "source": [
        "*   Instructor: Javad PourMostafa\n",
        "*   Teaching Assistant: Parsa Abbasi\n",
        "*   University of Guilan, 1st semester of 2019\n",
        "*   GitHub repository : *https://github.com/JoyeBright/NLP*"
      ]
    },
    {
      "cell_type": "markdown",
      "metadata": {
        "id": "mRpciSZZ-mb9",
        "colab_type": "text"
      },
      "source": [
        "![alt text](https://api.ning.com/files/zVkZJuBsVmCiwDFZI4D6EjB5JmygDkzEXdXRDm2i7IAblU56Hb0Ed65qbxUrsRD3vxYQ0jung4Cv4*wmIrVvN7Gu*2njAPkV/deeep.png)"
      ]
    },
    {
      "cell_type": "markdown",
      "metadata": {
        "id": "_aE9xQhhQ6XS",
        "colab_type": "text"
      },
      "source": [
        "Welcome to the final phase of the *NLP981* project. The task you should do in this phase is very similar to the first phase. The only difference is you are going to use a simple Deep Learning model, instead of a Machine Learning algorithm.\n",
        "\n",
        "The good news is you don't need to implement anything from scratch. You just need to know the main concepts about Neural Networks and be familiar with a Deep Learning library like Keras, Tensorflow or PyTorch. If you didn't work with any of them before. I suggest you use Keras. It's a high-level and easy-to-use deep learning library. The description of this phase is also written based on the Keras library and its functions.\n",
        "\n",
        "You have to code inside of this python notebook. The *Google Colab* gives you a free 12GB GPU to run your models. So I highly recommend you to save your time and use the Google Colab environment. \n",
        "\n",
        "If you have any questions, feel free to ask.\n",
        "You can use the [*Quera*](https://quera.ir/course/4385/) platform for your general questions.\n",
        "\n"
      ]
    },
    {
      "cell_type": "markdown",
      "metadata": {
        "id": "EgS3aCY358dV",
        "colab_type": "text"
      },
      "source": [
        "## Introduction"
      ]
    },
    {
      "cell_type": "markdown",
      "metadata": {
        "id": "6FG4cndz6DDq",
        "colab_type": "text"
      },
      "source": [
        "A category predictor is going to build at this phase of the project. (Similar to the first phase)\n",
        "\n",
        "The predictor gets a text as input and predicts a category for that.\n",
        "\n",
        "For this purpose, you need to :\n",
        "\n",
        "1.   Load the data\n",
        "2.   Preprocess the text data\n",
        "3.   Prepare texts to be suitable to feed into a deep learning model\n",
        "\n",
        "      1.   Tokenize each text\n",
        "      2.   Encode each text to numeric vector\n",
        "      3.   Pad each encoded text to have same length vectors\n",
        "\n",
        "4.   Make and train a simple deep learning model\n",
        "5.   Predict a category for each of validation data using the trained model\n",
        "6.   Evaluate your model performance using f1-score\n",
        "7.   Conclusion\n",
        "\n"
      ]
    },
    {
      "cell_type": "markdown",
      "metadata": {
        "id": "2zZOT-cefkxu",
        "colab_type": "text"
      },
      "source": [
        "## Google Colab Setup"
      ]
    },
    {
      "cell_type": "markdown",
      "metadata": {
        "id": "FzoOM84ift5U",
        "colab_type": "text"
      },
      "source": [
        "If you are using the Google Colab environment, make sure that you enabled GPU runtime type. To do this :\n",
        "\n",
        "\n",
        "*   Click the **“Runtime”** dropdown menu.\n",
        "*   Select “**Change runtime type**”\n",
        "*   Select **“GPU”** in the **“Hardware accelerator”** dropdown menu.\n",
        "\n",
        "![alt text](https://media.geeksforgeeks.org/wp-content/uploads/20190430121157/Screenshot-4910.png)"
      ]
    },
    {
      "cell_type": "markdown",
      "metadata": {
        "id": "0acil66KQ8A_",
        "colab_type": "text"
      },
      "source": [
        "## 1) Dataset"
      ]
    },
    {
      "cell_type": "markdown",
      "metadata": {
        "id": "haH1kfj3Q9tf",
        "colab_type": "text"
      },
      "source": [
        "The dataset you will use in this phase is called *Divar* that released by the *CafeBazaar* research team.\n",
        "\n",
        "It contains more than 900,000 posts of the *Divar* ads platform. We split this dataset into training, validation, and testing sets.\n",
        "\n",
        "The testing set is not accessible for you, and we use them to evaluate your work on the presentation day.\n",
        "\n",
        "You can download the dataset files (training and validation sets) directly from the following link :\n",
        "\n",
        "> *https://drive.google.com/open?id=1oj-fqpymjDr8QsOK-zQliiqXbVqakrFo*\n"
      ]
    },
    {
      "cell_type": "markdown",
      "metadata": {
        "id": "UdIRg1UBSOEi",
        "colab_type": "text"
      },
      "source": [
        "### 1.1) Import"
      ]
    },
    {
      "cell_type": "code",
      "metadata": {
        "id": "gwCPJjaSQukm",
        "colab_type": "code",
        "colab": {}
      },
      "source": [
        "# Import the training and validation sets here"
      ],
      "execution_count": 0,
      "outputs": []
    },
    {
      "cell_type": "markdown",
      "metadata": {
        "id": "MWHwVPkfS-OX",
        "colab_type": "text"
      },
      "source": [
        "### 1.2) Extract data"
      ]
    },
    {
      "cell_type": "markdown",
      "metadata": {
        "id": "KlIKCffqU4AM",
        "colab_type": "text"
      },
      "source": [
        "You need two types (columns) of information from this dataset. The descriptions (*desc*) will be used as the input of your model, and the First-level category (*cat1*) will be used as the classes or output of your model.\n",
        "\n",
        "The classes/categories must be represented with a unique integer number. As there are 6 different first-level categories in this dataset, you can assign a number between 0 to 5 to each of them."
      ]
    },
    {
      "cell_type": "code",
      "metadata": {
        "id": "Gw0EuzrFVIat",
        "colab_type": "code",
        "colab": {}
      },
      "source": [
        "# Your code\n",
        "x_train = # descriptions extracted from training set\n",
        "y_train = # first-level categories extracted from training set\n",
        "x_val = # descriptions extracted from validation set\n",
        "y_val = # first-level categories extracted from validation set"
      ],
      "execution_count": 0,
      "outputs": []
    },
    {
      "cell_type": "markdown",
      "metadata": {
        "id": "KUejNXljlZD1",
        "colab_type": "text"
      },
      "source": [
        "## 2) Preprocessing"
      ]
    },
    {
      "cell_type": "markdown",
      "metadata": {
        "id": "cLT50bemjw3K",
        "colab_type": "text"
      },
      "source": [
        "You can use any preprocessing steps you want. I recommend you to try different methods and see it's effects on the final result. Therefore, choose a composition of preprocessing steps that give you the most prediction score. "
      ]
    },
    {
      "cell_type": "code",
      "metadata": {
        "id": "xPQYAeEnlrcc",
        "colab_type": "code",
        "colab": {}
      },
      "source": [
        "def preprocessing(text):\n",
        "  # Your preprocessing steps\n",
        "  return cleared_text"
      ],
      "execution_count": 0,
      "outputs": []
    },
    {
      "cell_type": "markdown",
      "metadata": {
        "id": "izN13hPulonI",
        "colab_type": "text"
      },
      "source": [
        "## 3) Word Encoding"
      ]
    },
    {
      "cell_type": "markdown",
      "metadata": {
        "id": "UeC-rd4DMSUb",
        "colab_type": "text"
      },
      "source": [
        "There are different word embedding approach that was acceptable for deep learning models. The embedding vectors can be made when the model is training, but they can also be pre-trained word vectors. We recommend the first one for this phase. It means you need to use an embedding layer inside of your Neural Network architecture.\n",
        "\n",
        "You can add an embedding layer very easily in Keras. It requires that the input data be integer encoded so that each word is represented by a unique integer. You can use the Keras Tokenizer to do this representation. Tokenizer allows to vectorize a text corpus, by turning each text into a sequence of integers."
      ]
    },
    {
      "cell_type": "markdown",
      "metadata": {
        "id": "S1rGMFJmqKwm",
        "colab_type": "text"
      },
      "source": [
        "### 3.1) Tokenization"
      ]
    },
    {
      "cell_type": "markdown",
      "metadata": {
        "id": "VfPOmAF6qOF0",
        "colab_type": "text"
      },
      "source": [
        "Initilize a [Tokenizer](https://keras.io/preprocessing/text/)"
      ]
    },
    {
      "cell_type": "code",
      "metadata": {
        "id": "ZVwNZTGLqm20",
        "colab_type": "code",
        "colab": {}
      },
      "source": [
        "# Your code"
      ],
      "execution_count": 0,
      "outputs": []
    },
    {
      "cell_type": "markdown",
      "metadata": {
        "id": "Y3JSiFc67ewr",
        "colab_type": "text"
      },
      "source": [
        "Fit the tokenizer on the training set texts."
      ]
    },
    {
      "cell_type": "code",
      "metadata": {
        "id": "blMwTvGu7dzW",
        "colab_type": "code",
        "colab": {}
      },
      "source": [
        "# Your code"
      ],
      "execution_count": 0,
      "outputs": []
    },
    {
      "cell_type": "markdown",
      "metadata": {
        "id": "FFHFfWfS9AP9",
        "colab_type": "text"
      },
      "source": [
        "What is the maximum length of all training texts?"
      ]
    },
    {
      "cell_type": "code",
      "metadata": {
        "id": "i2tkj07k9VVQ",
        "colab_type": "code",
        "colab": {}
      },
      "source": [
        "max_len = # Your code"
      ],
      "execution_count": 0,
      "outputs": []
    },
    {
      "cell_type": "markdown",
      "metadata": {
        "id": "OQS8la2a9UYy",
        "colab_type": "text"
      },
      "source": [
        "How many words are in the tokenizer vocabulary? "
      ]
    },
    {
      "cell_type": "code",
      "metadata": {
        "id": "Mkq6i0V49ggO",
        "colab_type": "code",
        "colab": {}
      },
      "source": [
        "vocab_size = # Your code"
      ],
      "execution_count": 0,
      "outputs": []
    },
    {
      "cell_type": "markdown",
      "metadata": {
        "colab_type": "text",
        "id": "FgVuR0AoWtb1"
      },
      "source": [
        "### 3.2) Encoding"
      ]
    },
    {
      "cell_type": "markdown",
      "metadata": {
        "colab_type": "text",
        "id": "EqwN8t5yWtb4"
      },
      "source": [
        "Encode your training and validation texts by integer values using the tokenizer built-in functions."
      ]
    },
    {
      "cell_type": "code",
      "metadata": {
        "colab_type": "code",
        "id": "MLvDn6IMWtb7",
        "colab": {}
      },
      "source": [
        "encoded_x_train = # Your code\n",
        "encoded_x_val = # Your code"
      ],
      "execution_count": 0,
      "outputs": []
    },
    {
      "cell_type": "markdown",
      "metadata": {
        "colab_type": "text",
        "id": "IzQSzS12WuHL"
      },
      "source": [
        "### 3.3) Padding"
      ]
    },
    {
      "cell_type": "markdown",
      "metadata": {
        "colab_type": "text",
        "id": "RLwDYF2yWuHL"
      },
      "source": [
        "The Keras expects that all inputs to have the same length, but our descriptions have different lengths. You can use another Keras built-in function called [pad_sequences](https://keras.io/preprocessing/sequence/) to pads the sequences to the same length."
      ]
    },
    {
      "cell_type": "code",
      "metadata": {
        "colab_type": "code",
        "id": "DVulh5RvWuHM",
        "colab": {}
      },
      "source": [
        "padded_x_train = # Your code\n",
        "paddedd_x_val = # Your code"
      ],
      "execution_count": 0,
      "outputs": []
    },
    {
      "cell_type": "markdown",
      "metadata": {
        "id": "tSDMXv46CWwm",
        "colab_type": "text"
      },
      "source": [
        "## 4) Deep Learning"
      ]
    },
    {
      "cell_type": "markdown",
      "metadata": {
        "id": "MoiyVNNz-q5k",
        "colab_type": "text"
      },
      "source": [
        "Now it's time to make your appropriate Neural Network. You need to implement a simple NN architecture with just one hidden layer. We don't want any special architecture like CNN, RNN, or LSTM from you. But if you are skilled in deep learning, feel free to use any architecture you want."
      ]
    },
    {
      "cell_type": "markdown",
      "metadata": {
        "id": "bDlX3daqYEJT",
        "colab_type": "text"
      },
      "source": [
        "![alt text](https://drive.google.com/uc?export=view&id=1NuxNnGnum1cWSoL4G8BYOdw7HUwrvcG5)"
      ]
    },
    {
      "cell_type": "markdown",
      "metadata": {
        "id": "Mv1AdDBEY-gG",
        "colab_type": "text"
      },
      "source": [
        "The proposed model has four layers:\n",
        "\n",
        "\n",
        "1.   An Embedding layer with shape of (*max_length*, *embedding_dimension*)\n",
        "\n",
        "2.   A Dense layer with an optional number of units as a hidden layer\n",
        "\n",
        "3.   A Global Max Pooling layer\n",
        "\n",
        "4.   An Output layer with 6 units (Number of classes)\n",
        "\n",
        "**Notes:**\n",
        "\n",
        "*   You can use an optional number as Embedding Dimension. Our suggestion is 300.\n",
        "*   You should know what each layer is doing.\n",
        "*   You can be creative and add different hidden layers.\n",
        "*   The activation functions, loss functions, and the optimizer will be chosen by you, and you need to have strong reasons behind your choices.\n",
        "*   Try different batch size, epoch numbers, and learning rates.\n",
        "*   If you have a problem with the dimension of output (labels), you can convert the labels to a binary class matrix using [to_categorical](https://keras.io/utils/) function.\n",
        "\n",
        "\n",
        "\n"
      ]
    },
    {
      "cell_type": "code",
      "metadata": {
        "id": "5q-s73zI-xOq",
        "colab_type": "code",
        "colab": {}
      },
      "source": [
        "# Your model initilization"
      ],
      "execution_count": 0,
      "outputs": []
    },
    {
      "cell_type": "code",
      "metadata": {
        "id": "E8x50uLCdNy3",
        "colab_type": "code",
        "colab": {}
      },
      "source": [
        "# Your training parameters"
      ],
      "execution_count": 0,
      "outputs": []
    },
    {
      "cell_type": "code",
      "metadata": {
        "id": "5dxIjexmdRHc",
        "colab_type": "code",
        "colab": {}
      },
      "source": [
        "# Fit training set to the model"
      ],
      "execution_count": 0,
      "outputs": []
    },
    {
      "cell_type": "markdown",
      "metadata": {
        "id": "k089_muZ6j-j",
        "colab_type": "text"
      },
      "source": [
        "## 5) Prediction"
      ]
    },
    {
      "cell_type": "markdown",
      "metadata": {
        "id": "Kc5dl49O3aST",
        "colab_type": "text"
      },
      "source": [
        "Now you can predict a category for each of the validation data using the implemented classifier."
      ]
    },
    {
      "cell_type": "code",
      "metadata": {
        "id": "0bM9Shkx3x7Z",
        "colab_type": "code",
        "colab": {}
      },
      "source": [
        "# Your code"
      ],
      "execution_count": 0,
      "outputs": []
    },
    {
      "cell_type": "markdown",
      "metadata": {
        "id": "JsxqAwVvwOdD",
        "colab_type": "text"
      },
      "source": [
        "## 6) Evaluation"
      ]
    },
    {
      "cell_type": "markdown",
      "metadata": {
        "id": "7XlU1rIuN2Zp",
        "colab_type": "text"
      },
      "source": [
        "As the dataset is imbalanced, it's better to use F1-score as the evaluation metric. Therefore, evaluate your model using f1-score based on the prediction you made and the true labels."
      ]
    },
    {
      "cell_type": "code",
      "metadata": {
        "id": "as2u54-YOURz",
        "colab_type": "code",
        "colab": {}
      },
      "source": [
        "# Your code"
      ],
      "execution_count": 0,
      "outputs": []
    },
    {
      "cell_type": "markdown",
      "metadata": {
        "id": "v7mYEZXkOpgD",
        "colab_type": "text"
      },
      "source": [
        "## 7) Conclusion"
      ]
    },
    {
      "cell_type": "markdown",
      "metadata": {
        "id": "0_8mF-jcOrYx",
        "colab_type": "text"
      },
      "source": [
        "You need to have a handle on what you did in these two phases of the project. We want strong answers from you on the presentation day. So spend some time to review your work and make some conclusions. Some of the questioning topics about your work are listed below :\n",
        "\n",
        "*   Comparing the results or limits of the Machine Learning algorithm and your Deep Learning model.\n",
        "*   Comparing the advantages and disadvantages of different word embedding approaches (Neural Embedding vs TF-IDF Vectorization).\n",
        "*   Reasons for using these layers, activation functions, loss function, etc.\n",
        "*   The performance of your Deep Learning model based on the training loss over each epoch.\n",
        "*   And everything else that is possible to ask :) \n",
        "\n",
        "Good Luck!\n"
      ]
    }
  ]
}